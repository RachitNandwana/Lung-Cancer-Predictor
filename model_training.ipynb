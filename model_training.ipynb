from google.colab import drive 
import pandas as pd 
import numpy as np 
import matplotlib.pyplot as plt 
import seaborn as sns 
import warnings 
from sklearn import preprocessing 
from imblearn.over_sampling import ADASYN 
from sklearn.model_selection import train_test_split 
from sklearn.linear_model import LogisticRegression 
from sklearn.metrics import classification_report, accuracy_score, f1_score
import joblib
warnings.filterwarnings("ignore") 

drive.mount('/content/drive') 
file_path="/content/drive/MyDrive/survey lung cancer.csv" 

df = pd.read_csv(file_path) 
le=preprocessing.LabelEncoder()
df['SMOKING']=le.fit_transform(df['SMOKING'])
df['YELLOW_FINGERS']=le.fit_transform(df['YELLOW_FINGERS'])
df['ANXIETY']=le.fit_transform(df['ANXIETY'])
df['PEER_PRESSURE']=le.fit_transform(df['PEER_PRESSURE'])
df['CHRONIC DISEASE']=le.fit_transform(df['CHRONIC DISEASE'])
df['FATIGUE ']=le.fit_transform(df['FATIGUE '])
df['ALLERGY ']=le.fit_transform(df['ALLERGY '])
df['WHEEZING']=le.fit_transform(df['WHEEZING'])
df['ALCOHOL CONSUMING']=le.fit_transform(df['ALCOHOL CONSUMING'])
df['COUGHING']=le.fit_transform(df['COUGHING'])
df['SHORTNESS OF BREATH']=le.fit_transform(df['SHORTNESS OF BREATH'])
df['SWALLOWING DIFFICULTY']=le.fit_transform(df['SWALLOWING DIFFICULTY'])
df['CHEST PAIN']=le.fit_transform(df['CHEST PAIN'])
df['LUNG_CANCER']=le.fit_transform(df['LUNG_CANCER'])

df_new=df.drop(columns=['GENDER','AGE']) 
df_new 

cn=df_new.corr() 
cn 

df_new['Anxiety + yellow fingers']=df_new['ANXIETY']*df_new['YELLOW_FINGERS'] 
df_new 

X1 = df_new.drop('LUNG_CANCER', axis = 1) 
Y1= df_new['LUNG_CANCER'] 

adasyn = ADASYN(random_state=22) 
X1, Y1 = adasyn.fit_resample(X1, Y1) 

X_train, X_test, y_train, y_test= train_test_split(X1,Y1, test_size= 0.3, random_state=0) 

model=LogisticRegression(random_state=0) 
model.fit(X_train, y_train) 
y_predicted= model.predict(X_test) 
y_predicted

Matrices = classification_report(y_test, y_predicted)
print(Matrices)

joblib.dump(model, '/content/drive/MyDrive/cancer_model.pkl')
